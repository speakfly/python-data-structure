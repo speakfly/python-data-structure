{
 "cells": [
  {
   "cell_type": "code",
   "execution_count": 1,
   "metadata": {},
   "outputs": [],
   "source": [
    "# 栈的操作如下\n",
    "\n",
    "# Stack 创建一个空的新栈\n",
    "# push(item) 将一个新项添加到栈的顶部\n",
    "# pop() 从栈中删除顶部项\n",
    "# peek()  从栈返回顶部项\n",
    "# isEmpty() 测试栈是否为空\n",
    "# size() 返回栈中的item数量\n",
    "\n",
    "class Stack:\n",
    "    \"\"\"创建一个栈\"\"\"\n",
    "    def __init__(self):\n",
    "        self.items = []\n",
    "    \n",
    "    def push(self, item):\n",
    "        self.items.append(item)\n",
    "    \n",
    "    def pop(self):\n",
    "        return self.items.pop() \n",
    "    \n",
    "    def peek(self):\n",
    "        return self.items[-1]\n",
    "    \n",
    "    def isEmpty(self):\n",
    "        return self.items == []\n",
    "    \n",
    "    def size(self):\n",
    "        return len(self.items)"
   ]
  },
  {
   "cell_type": "code",
   "execution_count": 3,
   "metadata": {},
   "outputs": [
    {
     "name": "stdout",
     "output_type": "stream",
     "text": [
      "True\n",
      "dog\n",
      "3\n",
      "False\n",
      "8.4\n",
      "True\n",
      "2\n"
     ]
    }
   ],
   "source": [
    "s = Stack()\n",
    "\n",
    "print(s.isEmpty())\n",
    "s.push(4)\n",
    "s.push('dog')\n",
    "print(s.peek())\n",
    "s.push(True)\n",
    "print(s.size())\n",
    "print(s.isEmpty())\n",
    "s.push(8.4)\n",
    "print(s.pop())\n",
    "print(s.pop())\n",
    "print(s.size())"
   ]
  },
  {
   "cell_type": "code",
   "execution_count": 12,
   "metadata": {},
   "outputs": [
    {
     "name": "stdout",
     "output_type": "stream",
     "text": [
      "True\n",
      "False\n"
     ]
    }
   ],
   "source": [
    "# 简单的括号匹配\n",
    "# 分析得出 括号匹配 符合栈的结构\n",
    "\n",
    "# 遍历字符串\n",
    "# 遇到(   (进栈 \n",
    "# 遇到）  (出栈  如果(不能出栈 则报错\n",
    "# 判断 栈是否为空 和 是否提前报错\n",
    "\n",
    "def parChecker(symbolString):\n",
    "    s = Stack()\n",
    "    balanced = True\n",
    "    index = 0\n",
    "    \n",
    "    # 历遍字符串 并检查\n",
    "    while index < len(symbolString) and balanced:\n",
    "        symbol = symbolString[index]\n",
    "        if symbol == '(':\n",
    "            s.push(symbol)\n",
    "        else:\n",
    "            if s.isEmpty():\n",
    "                balanced = False\n",
    "            else:\n",
    "                s.pop()\n",
    "        index = index + 1\n",
    "    \n",
    "    # 判断是否符合\n",
    "    if balanced and s.isEmpty():\n",
    "        return True\n",
    "    else:\n",
    "        return False\n",
    "\n",
    "print(parChecker('((()))'))\n",
    "print(parChecker('(()'))\n",
    "\n",
    "# 通过以上例子懂得了正确的写代码方式\n",
    "# 先写注解  写明代码的作用 与 如何实现\n",
    "# 最好才是写代码\n",
    "# 写类的是否 先写方法先 内容使用pass代替\n",
    "# 写方法的时候 写结构写 其他使用pass代替 写完结构才是写具体细节"
   ]
  },
  {
   "cell_type": "code",
   "execution_count": 14,
   "metadata": {},
   "outputs": [
    {
     "name": "stdout",
     "output_type": "stream",
     "text": [
      "True\n",
      "False\n"
     ]
    }
   ],
   "source": [
    "# 括号匹配\n",
    "# 现在不单止匹配() 而且还需要写{} [] 的匹配\n",
    "# 以下代码 介绍如何重构代码\n",
    "\n",
    "# 分析 逻辑的相同部分 和 不同部分\n",
    "# 相同部分 都是使用栈的原理进行 匹配\n",
    "# 不同部分是 匹配的 不只是 '('  而是 '({['\n",
    "# 再者 根据上面的匹配字符 '({[' 再来匹配 ')}]' 进行出栈 该逻辑需要用一个函数来代替\n",
    "\n",
    "# 那么重构的代码 只需要修改 两个匹配的地方\n",
    "\n",
    "# 第一个地方 if symbol == '(':  修改为 if symbol in '({[':\n",
    "# 第二个地方 s.pop()            修改为  balanced = matches(s.pop(), symbol)\n",
    "\n",
    "def matches(open, close):\n",
    "    opens = '({['\n",
    "    closes = ')}]'\n",
    "    return opens.index(open) == closes.index(close)\n",
    "\n",
    "def parChecker(symbolString):\n",
    "    s = Stack()\n",
    "    balanced = True\n",
    "    index = 0\n",
    "    \n",
    "    # 历遍字符串 并检查\n",
    "    while index < len(symbolString) and balanced:\n",
    "        symbol = symbolString[index]\n",
    "        if  symbol in '({[':\n",
    "            s.push(symbol)\n",
    "        else:\n",
    "            if s.isEmpty():\n",
    "                balanced = False\n",
    "            else:\n",
    "                balanced = matches(s.pop(), symbol)\n",
    "        index = index + 1\n",
    "    \n",
    "    # 判断是否符合\n",
    "    if balanced and s.isEmpty():\n",
    "        return True\n",
    "    else:\n",
    "        return False\n",
    "\n",
    "print(parChecker('{{([][])}()}'))\n",
    "print(parChecker('[{()]'))"
   ]
  },
  {
   "cell_type": "code",
   "execution_count": 24,
   "metadata": {},
   "outputs": [
    {
     "name": "stdout",
     "output_type": "stream",
     "text": [
      "101010\n"
     ]
    }
   ],
   "source": [
    "# 十进制转化成二进制\n",
    "\n",
    "# 通过分析获取 二进制转10进制  使用他的逆过程就能处理\n",
    "# 逆过程处理的办法就是辗转求余法 只不过得出的结果是倒序的 那么使用栈存储\n",
    "\n",
    "# 辗转求余法\n",
    "# 当num 大于 0 时  num % 2 的结果存储到栈里 然后num = num // 2\n",
    "\n",
    "def divideBy2(decNumber):\n",
    "    remstack = Stack()\n",
    "    \n",
    "    # 辗转求余法\n",
    "    while decNumber > 0:\n",
    "        remstack.push(decNumber%2)\n",
    "        decNumber = decNumber // 2\n",
    "    \n",
    "    # 把栈中的数据转成字符串\n",
    "    binString = ''\n",
    "    while not remstack.isEmpty():\n",
    "        binString = binString + str(remstack.pop())\n",
    "    \n",
    "    return binString\n",
    "\n",
    "print(divideBy2(42))"
   ]
  },
  {
   "cell_type": "code",
   "execution_count": 25,
   "metadata": {},
   "outputs": [
    {
     "name": "stdout",
     "output_type": "stream",
     "text": [
      "11001\n",
      "19\n"
     ]
    }
   ],
   "source": [
    "# 扩展 十进制转化成 2-16进制的函数\n",
    "# 分析逻辑 的相同部分 和 不同部分\n",
    "# 相同部分都可以使用辗转求余\n",
    "# 不同部分  除数随参数改变    返回的表达式不一样\n",
    "\n",
    "def baseConverter(decNumber, base):\n",
    "    remstack = Stack()\n",
    "    \n",
    "    # 表达式不一样的解决办法  通过 digits[index] 来表示\n",
    "    digits = \"0123456789ABCDEF\"\n",
    "    \n",
    "    # 辗转求余法\n",
    "    while decNumber > 0:\n",
    "        remstack.push(decNumber%base)\n",
    "        decNumber = decNumber // base\n",
    "    \n",
    "    # 把栈中的数据转成字符串\n",
    "    binString = ''\n",
    "    while not remstack.isEmpty():\n",
    "        binString = binString + digits[remstack.pop()]\n",
    "    \n",
    "    return binString\n",
    "\n",
    "print(baseConverter(25,2))\n",
    "print(baseConverter(25,16))"
   ]
  },
  {
   "cell_type": "code",
   "execution_count": 35,
   "metadata": {},
   "outputs": [
    {
     "name": "stdout",
     "output_type": "stream",
     "text": [
      "A B * C D * +\n",
      "A B + C * D E - F G + * -\n",
      "A B + C D + *\n"
     ]
    }
   ],
   "source": [
    "# 中缀表达式和后缀表达式\n",
    "\n",
    "# 中缀表达式 是 给人类看 易于计算   因为人类能知道 运算符的优先级\n",
    "# 后缀表达式： 已经规定了运算顺序\n",
    "# 所以 如果要让 程序处理 中缀表达式  需要 将中缀表达式 转化成 后缀表达式 或者 前缀表达式\n",
    "\n",
    "# A+B*C 转化成后缀表达式 是 ABC*+  注意到操作数的顺序相对不变  操作符顺序相反\n",
    "# 由于这种顺序的反转，考虑使用栈来保存运算符知道用到他们是有意义的\n",
    "\n",
    "# (A + B)* C  当我们看到( 时,我们保存他，表示高优先级的另一个运算符将出现。该操作符需要等到\n",
    "# 相应的 )出现以表示其位置（回忆完全括号的算法） 当右括号出现时，可以从栈中弹出操作符\n",
    "\n",
    "# 每当我们读取一个新的运算符时， 我们需要考虑该运算符如何与已经再栈上的运算符计较优先级\n",
    "\n",
    "# 假设操作符标记*，/，+和-，以及左右括号，操作符是单个字符A，B，C等\n",
    "\n",
    "# 1. 创建一个名为opstack的空栈已保存运算符。给输出创建一个空列表\n",
    "# 2. 通过使用字符串方法拆分将输入的中缀字符串换为标记列表\n",
    "# 3. 从左到右扫描标记列表\n",
    "#     *如果标记是操作数， 将其附加到输出列表的末尾\n",
    "#     *如果标记是左括号， 将其压倒opstack上。\n",
    "#     *如果标记的是右括号，则弹出opstack, 知道输出相应的左括号。将每个运算符附加到输出列表的末尾\n",
    "#     *如果标记是运算符， *， /， +， -， 将其压入opstack。但是，首先删除已经再opstack中具有更高或者相等优先级的任意运算符，并将他们加到输出列表中\n",
    "# 4. 当输入表达式被完全处理时，检查opstack。仍然在栈上的任何运算符都可以删除并加到输出列表的末尾\n",
    "\n",
    "def infixToPostfix(infixexpr):\n",
    "    ### 定义优先级\n",
    "    prec = {}\n",
    "    prec[\"*\"] = 3\n",
    "    prec[\"/\"] = 3\n",
    "    prec[\"+\"] = 2 \n",
    "    prec[\"-\"] = 2\n",
    "    prec[\"(\"] = 1     #强行把最低优先级放进去 使排在(下面的操作符不能出去 除非(先出去\n",
    "    \n",
    "    opStack = Stack()\n",
    "    postfixList = []\n",
    "    \n",
    "    tokenList = infixexpr.split()\n",
    "    \n",
    "    for token in tokenList:\n",
    "        if token in \"ABCDEFGHIJKLMNOPQRSTUVWXYZ\" or token in \"0123456789\":\n",
    "            postfixList.append(token)\n",
    "        elif token == '(':       \n",
    "            opStack.push(token)\n",
    "        elif token == ')':                #要结束括号里面的内容 所以不管(之前还有多少都得出栈\n",
    "            topToken = opStack.pop()\n",
    "            while topToken != '(':\n",
    "                postfixList.append(topToken)\n",
    "                topToken = opStack.pop()\n",
    "        else:\n",
    "            while (not opStack.isEmpty()) and \\\n",
    "                (prec[opStack.peek()]  >=  prec[token]):\n",
    "                postfixList.append(opStack.pop())\n",
    "                \n",
    "            opStack.push(token)\n",
    "    \n",
    "    while not opStack.isEmpty():\n",
    "        postfixList.append(opStack.pop())\n",
    "    \n",
    "    return \" \".join(postfixList)\n",
    "\n",
    "print(infixToPostfix(\"A * B + C * D\"))\n",
    "print(infixToPostfix(\"( A + B ) * C - ( D - E ) * ( F + G )\"))\n",
    "print(infixToPostfix(\"( A + B ) * ( C + D )\"))\n",
    "\n",
    "# 一共使用了三个容易存储  \n",
    "#     opStack = Stack()\n",
    "#     postfixList = []   \n",
    "#     tokenList = infixexpr.split()"
   ]
  },
  {
   "cell_type": "code",
   "execution_count": 37,
   "metadata": {},
   "outputs": [
    {
     "name": "stdout",
     "output_type": "stream",
     "text": [
      "3.0\n"
     ]
    }
   ],
   "source": [
    "# 后缀表达式求值\n",
    "# 1. 创建一个名为 operandStack 的空栈\n",
    "# 2. 拆分字符串转化为标记列表\n",
    "# 3. 从左到右扫描标记列表\n",
    "#    * 如果标记时操作数，将其从字符串转化为整数，并将其压到operandStack\n",
    "#    * 如果标记时运算符 *， /， +， -，他将需要两个操作数。弹出operandStack两次。第一个弹出是第二个操作数，第二个弹出的是第一个操作数。执行算术运算后，将结果压到操作数栈中\n",
    "#  4. 当输入的表达式被完全处理后，结果就在栈上，弹出operandStack并返回值\n",
    "\n",
    "# 为了辅助计算，定义了一个doMath，他将获取两个操作数和运算符， 执行相应的计算\n",
    "def doMath(op, op1, op2):\n",
    "    if op == \"*\":\n",
    "        return op1 * op2\n",
    "    elif op == \"/\":\n",
    "        return op1 / op2\n",
    "    elif op == \"+\":\n",
    "        return op1 + op2\n",
    "    elif op == \"-\":\n",
    "        return op1 - op2\n",
    "    \n",
    "def postfixEval(postfixExpr):\n",
    "    operandStack = Stack()\n",
    "    tokenList = postfixExpr.split()\n",
    "    \n",
    "    for token in tokenList:\n",
    "        if token in \"0123456789\":\n",
    "            operandStack.push(int(token))\n",
    "        else:\n",
    "            operand2 = operandStack.pop()\n",
    "            operand1 = operandStack.pop()\n",
    "            result = doMath(token, operand1, operand2)\n",
    "            operandStack.push(result)\n",
    "    \n",
    "    return operandStack.pop()\n",
    "\n",
    "print(postfixEval('7 8 + 3 2 + /'))"
   ]
  },
  {
   "cell_type": "code",
   "execution_count": 42,
   "metadata": {},
   "outputs": [
    {
     "data": {
      "text/plain": [
       "28"
      ]
     },
     "execution_count": 42,
     "metadata": {},
     "output_type": "execute_result"
    }
   ],
   "source": [
    "# 组合起来就是\n",
    "# 该函数的缺点就是 不能计算数位以上的数字\n",
    "# 不支持浮点数\n",
    "expr = \"0 + 3 + 5 * 5\"\n",
    "postfixEval(infixToPostfix(expr))"
   ]
  },
  {
   "cell_type": "code",
   "execution_count": null,
   "metadata": {},
   "outputs": [],
   "source": []
  }
 ],
 "metadata": {
  "kernelspec": {
   "display_name": "Python 3",
   "language": "python",
   "name": "python3"
  },
  "language_info": {
   "codemirror_mode": {
    "name": "ipython",
    "version": 3
   },
   "file_extension": ".py",
   "mimetype": "text/x-python",
   "name": "python",
   "nbconvert_exporter": "python",
   "pygments_lexer": "ipython3",
   "version": "3.6.5"
  }
 },
 "nbformat": 4,
 "nbformat_minor": 2
}
